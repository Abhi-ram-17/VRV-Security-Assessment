{
  "nbformat": 4,
  "nbformat_minor": 0,
  "metadata": {
    "colab": {
      "provenance": [],
      "authorship_tag": "ABX9TyM7zTQz1KjdIuUhb4V+Cz9T",
      "include_colab_link": true
    },
    "kernelspec": {
      "name": "python3",
      "display_name": "Python 3"
    },
    "language_info": {
      "name": "python"
    }
  },
  "cells": [
    {
      "cell_type": "markdown",
      "metadata": {
        "id": "view-in-github",
        "colab_type": "text"
      },
      "source": [
        "<a href=\"https://colab.research.google.com/github/Abhi-ram-17/VRV-Security-Assessment/blob/main/Log_Analysis.ipynb\" target=\"_parent\"><img src=\"https://colab.research.google.com/assets/colab-badge.svg\" alt=\"Open In Colab\"/></a>"
      ]
    },
    {
      "cell_type": "code",
      "execution_count": null,
      "metadata": {
        "colab": {
          "base_uri": "https://localhost:8080/"
        },
        "id": "XpHYr6EVvOY0",
        "outputId": "b6193ec2-63b6-475d-ed61-3e3e38caa78a"
      },
      "outputs": [
        {
          "output_type": "stream",
          "name": "stdout",
          "text": [
            "Results saved to log_analysis_results.csv\n"
          ]
        }
      ],
      "source": [
        "import csv\n",
        "from collections import Counter\n",
        "\n",
        "# Define constants and file paths\n",
        "LOG_FILE = \"/content/sample.log\"  # Replace with your log file path\n",
        "OUTPUT_CSV = \"log_analysis_results.csv\"\n",
        "FAILED_LOGIN_THRESHOLD = 10\n",
        "\n",
        "def parse_log_file(log_file):\n",
        "    \"\"\"Parse the log file to extract relevant information.\"\"\"\n",
        "    ip_requests = Counter()\n",
        "    endpoints = Counter()\n",
        "    failed_logins = Counter()\n",
        "\n",
        "    with open(log_file, \"r\") as file:\n",
        "        for line in file:\n",
        "            parts = line.split()\n",
        "            if len(parts) < 9:\n",
        "                continue\n",
        "\n",
        "            # Extract IP address\n",
        "            ip_address = parts[0]\n",
        "            ip_requests[ip_address] += 1\n",
        "\n",
        "            # Extract endpoint\n",
        "            request = parts[5][1:]  # Remove starting \"\n",
        "            if request in (\"GET\", \"POST\"):\n",
        "                endpoint = parts[6]\n",
        "                endpoints[endpoint] += 1\n",
        "\n",
        "            # Check for failed login attempts\n",
        "            status_code = parts[8]\n",
        "            if status_code == \"401\" or \"Invalid credentials\" in line:\n",
        "                failed_logins[ip_address] += 1\n",
        "\n",
        "    return ip_requests, endpoints, failed_logins\n",
        "\n",
        "def analyze_logs(ip_requests, endpoints, failed_logins):\n",
        "    \"\"\"Analyze parsed logs to generate results.\"\"\"\n",
        "    # Sort IP requests\n",
        "    sorted_ip_requests = ip_requests.most_common()\n",
        "\n",
        "    # Identify most frequently accessed endpoint\n",
        "    most_accessed_endpoint = endpoints.most_common(1)\n",
        "\n",
        "    # Detect suspicious activity\n",
        "    suspicious_ips = {ip: count for ip, count in failed_logins.items() if count > FAILED_LOGIN_THRESHOLD}\n",
        "\n",
        "    return sorted_ip_requests, most_accessed_endpoint, suspicious_ips\n",
        "\n",
        "def save_to_csv_fixed(sorted_ip_requests, most_accessed_endpoint, suspicious_ips, output_csv):\n",
        "    \"\"\"Save analysis results to a CSV file with consistent formatting.\"\"\"\n",
        "    with open(output_csv, mode=\"w\", newline=\"\") as file:\n",
        "        writer = csv.writer(file)\n",
        "\n",
        "        # Write Requests per IP\n",
        "        writer.writerow([\"Section\", \"Detail 1\", \"Detail 2\"])\n",
        "        writer.writerow([\"Requests per IP\", \"IP Address\", \"Request Count\"])\n",
        "        for ip, count in sorted_ip_requests:\n",
        "            writer.writerow([\"\", ip, count])\n",
        "        writer.writerow([])\n",
        "\n",
        "        # Write Most Accessed Endpoint\n",
        "        writer.writerow([\"Most Accessed Endpoint\", \"Endpoint\", \"Access Count\"])\n",
        "        if most_accessed_endpoint:\n",
        "            endpoint, count = most_accessed_endpoint[0]\n",
        "            writer.writerow([\"\", endpoint, count])\n",
        "        writer.writerow([])\n",
        "\n",
        "        # Write Suspicious Activity\n",
        "        writer.writerow([\"Suspicious Activity\", \"IP Address\", \"Failed Login Count\"])\n",
        "        for ip, count in suspicious_ips.items():\n",
        "            writer.writerow([\"\", ip, count])\n",
        "\n",
        "def main():\n",
        "    \"\"\"Main function to execute log analysis.\"\"\"\n",
        "    ip_requests, endpoints, failed_logins = parse_log_file(LOG_FILE)\n",
        "    sorted_ip_requests, most_accessed_endpoint, suspicious_ips = analyze_logs(ip_requests, endpoints, failed_logins)\n",
        "    save_to_csv_fixed(sorted_ip_requests, most_accessed_endpoint, suspicious_ips, OUTPUT_CSV)\n",
        "    print(f\"Results saved to {OUTPUT_CSV}\")\n",
        "\n",
        "if __name__ == \"__main__\":\n",
        "    main()\n"
      ]
    }
  ]
}